{
  "nbformat": 4,
  "nbformat_minor": 0,
  "metadata": {
    "colab": {
      "provenance": [],
      "authorship_tag": "ABX9TyNKXD0h2+KWLrvnFmZxPqxL",
      "include_colab_link": true
    },
    "kernelspec": {
      "name": "python3",
      "display_name": "Python 3"
    },
    "language_info": {
      "name": "python"
    }
  },
  "cells": [
    {
      "cell_type": "markdown",
      "metadata": {
        "id": "view-in-github",
        "colab_type": "text"
      },
      "source": [
        "<a href=\"https://colab.research.google.com/github/dlwlgns0023/test/blob/master/%ED%99%95%EB%A5%A0%EA%B3%BC%ED%86%B5%EA%B3%84_1.ipynb\" target=\"_parent\"><img src=\"https://colab.research.google.com/assets/colab-badge.svg\" alt=\"Open In Colab\"/></a>"
      ]
    },
    {
      "cell_type": "code",
      "execution_count": 1,
      "metadata": {
        "colab": {
          "base_uri": "https://localhost:8080/"
        },
        "id": "eRA25x1wC1lA",
        "outputId": "8609678b-f359-4051-ec59-cedf9415818c"
      },
      "outputs": [
        {
          "output_type": "execute_result",
          "data": {
            "text/plain": [
              "0    1.0\n",
              "1    2.0\n",
              "2    NaN\n",
              "3    4.0\n",
              "dtype: float64"
            ]
          },
          "metadata": {},
          "execution_count": 1
        }
      ],
      "source": [
        "import numpy as np #시작전 입력 필수\n",
        "import pandas as pd #시작전 입력 핖수\n",
        "\n",
        "se = pd.Series([1, 2, np.nan, 4])\n",
        "se"
      ]
    },
    {
      "cell_type": "code",
      "source": [
        "df=pd.read_csv()"
      ],
      "metadata": {
        "id": "B4jXQIg3DkVd"
      },
      "execution_count": null,
      "outputs": []
    }
  ]
}